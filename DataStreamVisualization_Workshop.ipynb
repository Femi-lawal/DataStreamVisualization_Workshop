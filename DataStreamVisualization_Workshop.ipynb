{
 "cells": [
  {
   "cell_type": "markdown",
   "metadata": {},
   "source": [
    "# 🏡 Data Streaming and Visualization Workshop\n",
    "## Use case: Manufacturing Robot predictive Maintenance\n",
    "---"
   ]
  },
  {
   "cell_type": "markdown",
   "metadata": {},
   "source": [
    "## ❗ Clarify the Problem\n",
    "\n",
    "Issue: Torque Tube Failure – 480 Minutes of Downtime\n",
    "Root cause is the age of the equipment.\n",
    "Roadblocks: Options to monitor equipment health are limited.\n",
    "GAP: Lack of a tool to avoid reactive response to equipment breakdown.  \n",
    "\n",
    "---\n",
    "\n",
    "### 1. 🧭 Material Handling Operations\n",
    "![Image Description](./images/KawasakiMaterialsHandling.png)\n",
    "\n",
    "\n",
    "### ⚠️ What Goes Wrong Without ProperMaintenance\n",
    "![Image Description](./images/KawasakiFailureCondition.png)\n",
    "\n",
    "### 2. 📉 Robot Controller Hardware Configuration\n",
    "![Image Description](./images/KawasakiASTerminalControl.png)\n",
    "\n",
    "### 3. 📉 Collecting Data from the Robot Controller\n",
    "![Image Description](./images/ASATerminalTelnetDataCollect.png)\n",
    "\n",
    "### 4. 🧠 Predictive Maintenance Use Case\n",
    "![Image Description](./images/FailurePredictionUseCase.png)\n",
    "\n",
    "### 5. ✅ Predictive Maintenance (PM) Architecture\n",
    "![Image Description](./images/PM_Architecture.png)\n",
    "\n",
    "### 6. ➡️ PM Dashboard Design.\n",
    "![Image Description](./images/PM_SampleDashboard.png)\n",
    "\n",
    "---\n",
    "\n"
   ]
  },
  {
   "cell_type": "markdown",
   "metadata": {},
   "source": [
    "\n",
    "Welcome to the 90-minute workshop! In this hands-on session, your team will build an **Predictive Maintenance Dashboard** application, the visibility tool of an Anomaly Detection and response management workflow in a manufacturing facility.\n",
    "\n",
    "### 👥 Team Guidelines\n",
    "- Work in teams of 3.\n",
    "- Submit one completed Jupyter Notebook per team.\n",
    "- The final notebook must contain **Markdown explanations** and **Python code**.\n",
    "- Push your notebook to GitHub and share the `.git` link before class ends.\n",
    "\n",
    "## 🔧 Workshop Tasks Overview\n",
    "\n",
    "1. **Streaming and Collection of robot operational data**\n",
    "2. **Persisting the data in a Relational Database**\n",
    "3. **Running a live dashboard to track robot hardware performance**\n",
    "4. **Implementing the foundations of a Predictive Analytics Module**\n",
    "\n",
    "> Each step includes a sample **talking point**. Your team must add your own custom **Markdown + code cells** with a **second talking point**, and test your Inverted Index with **2 phrase queries**.\n"
   ]
  },
  {
   "cell_type": "markdown",
   "metadata": {},
   "source": [
    "## 🧠 Learning Objectives\n",
    "- Implement a **Dynamic Dashboard** using real-world data from one or more operational robots.\n",
    "- Build **Jupyter Notebooks** with well-structured code and clear Markdown documentation.\n",
    "- Use **Git and GitHub** for collaborative version control and code sharing.\n",
    "- Identify and articulate coding issues (\"**talking points**\") and insert them directly into peer notebooks.\n",
    "- Practice **collaborative debugging**, professional peer feedback, and improve code quality.\n",
    "\n",
    "## 🧩 Workshop Structure (180 Minutes)\n",
    "1. **Instructor Use Case Introduction** *(40 min)* – Set up teams of 3 people. Read and understand the workshop, plus submission instructions. Seek assistance if needed.\n",
    "2. **Team Jupyter Notebook Development** *(120 min)* – Collection, Persistence, and Dashboard coding + Markdown documentation (work as teams)\n",
    "3. **Push to GitHub** *(10 min)* – Teams commit and push initial notebooks. **Make sure to include your names so it is easy to identify the team that developed the Min-Max code**.\n",
    "4. **Instructor Review** - The instructor will go around, take notes, and provide coaching as needed, during the **Peer Review Round**\n",
    "5. **Email Delivery** *(5 min)* – Each team send the instructor an email **with the *.git link** to the GitHub repo **(one email/team)**. Subject on the email is: CSCN8010 - Data Stream Visualization Workshop, Team #_____.\n",
    "6. **Push to the course GitHub** *(automated)* – Find the last code cell in this notebook, update your team number, and run the cell. It will push your notebook to the repo at `submissions/team#`\n",
    "\n",
    "## 💻 Submission Checklist\n",
    "- ✅ `DataStreamVisualization_workshop.ipynb` with:\n",
    "  - Demo code: Data Streaming and Collection, DB Persistence, Visualization, and Predictive Analytics placeholder module.\n",
    "  - Markdown explanations for each major step\n",
    "  - **Labeled talking point(s)** and 2 phrase query tests\n",
    "- ✅ `README.md` with:\n",
    "  - Use case description and problem definition\n",
    "  - Team member names\n",
    "  - Link to the dataset and license (if public)\n",
    "- ✅ GitHub Repo:\n",
    "  - Public repo named `DataStreamVisualization_workshop`\n",
    "  - This is a group effort, so **choose one member of the team** to publish the repo\n",
    "  - At least **one commit containing one meaningful talking point**"
   ]
  },
  {
   "cell_type": "markdown",
   "metadata": {},
   "source": [
    "## 📄 Step 1: Simulate the Telnet connection before Document Collection starts."
   ]
  },
  {
   "cell_type": "markdown",
   "metadata": {},
   "source": [
    "\n",
    "### 🗣 Instructor Talking Point:\n",
    "> We begin by simulating the connection to N materials-handling robots as a set $ R = \\{r_1, r_2, \\dots, r_x\\}$, where $ x \\in \\mathbb{N} \\mid 1 \\leq x \\leq 100 $. \n",
    "\n",
    "To build a data collection mechanism, a simulation of a real **Streaming Data Collection System**. The simulation must open a CSV file with one day's worth of streaming data, then read one record, and concurrently (1) insert the data into a database table and (2) pushing the data into a dashboard.\n",
    "\n",
    "### 🔧 Your Task:\n",
    "- Open the provided CSV file and stream it to memory in a Pandas Data Frame.\n",
    "- Initialize a database on a cloud-based service like https://neon.tech/. "
   ]
  },
  {
   "cell_type": "markdown",
   "metadata": {},
   "source": []
  },
  {
   "cell_type": "markdown",
   "metadata": {},
   "source": [
    "## ✂️ Step 2: Simulate the data stream from robot controllers."
   ]
  },
  {
   "cell_type": "markdown",
   "metadata": {},
   "source": [
    "### 🗣 Instructor Talking Point:\n",
    "> Simulate the streaming data collection by opening the provided CSV file, and simulate ths stream of robot performance data as if it were coming from controllers, a single reading every 2 seconds.\n",
    "\n",
    "### 🔧 Your Task:\n",
    "- For each record read from the CSV file:\n",
    "    - Open a connection to the database\n",
    "    - Insert into a table in the database\n",
    "    - Plot on a chart (refresh it)\n",
    "    - Close the connection to the database\n",
    "\n",
    "- Implement the simuation module as an Object-Oriented Python script called `StreamingSimulator`.\n",
    "- Instantiate an object called `ss` in a Jupyter Notebook.\n",
    "- Invoke a method called `nextDataPoint` to load a record from the CSV document into a Data Frame for processing.\n"
   ]
  },
  {
   "cell_type": "markdown",
   "metadata": {},
   "source": [
    "## 🔁 Step 3: Find patterns in the data stream"
   ]
  },
  {
   "cell_type": "markdown",
   "metadata": {},
   "source": [
    "### 🗣 Instructor Talking Point:\n",
    "> Now we document if there are any tendencies or patterns in the data. Do this in the context of the use case and its problem statement.\n",
    "\n",
    "### 🔧 Your Task:\n",
    "- Write Markdown to document the data source.\n"
   ]
  },
  {
   "cell_type": "markdown",
   "metadata": {},
   "source": [
    "## 🔍 Step 4: Document the application's role in the business use case."
   ]
  },
  {
   "cell_type": "markdown",
   "metadata": {},
   "source": [
    "### 🗣 Instructor Talking Point:\n",
    "> Document the state of the robot(s) after analyzing the data stream.\n",
    "\n",
    "### 🔧 Your Task:\n",
    "- Pinpoint **anomalies** and comment on whether they affect the state of the robots or not.\n",
    "- Identify and document **Maintenance Notification alerts** based on the data.\n"
   ]
  },
  {
   "cell_type": "markdown",
   "metadata": {},
   "source": [
    "## 🧠 Additional Challenge: display a chart to summarize the entire data set\n",
    "\n",
    "Read the entire data from the database and use it to plot a chart that summarizes the behavior of the robots based on their energy consumption.\n",
    "\n",
    "#### Sample solution:"
   ]
  },
  {
   "cell_type": "code",
   "execution_count": null,
   "metadata": {
    "vscode": {
     "languageId": "plaintext"
    }
   },
   "outputs": [],
   "source": []
  },
  {
   "cell_type": "markdown",
   "metadata": {},
   "source": [
    "## 🧠 Push your code to the course GitHub repository\n",
    "\n",
    "Update your team number and then run the code. "
   ]
  }
 ],
 "metadata": {
  "kernelspec": {
   "display_name": "Python 3",
   "language": "python",
   "name": "python3"
  },
  "language_info": {
   "name": "python"
  }
 },
 "nbformat": 4,
 "nbformat_minor": 2
}
